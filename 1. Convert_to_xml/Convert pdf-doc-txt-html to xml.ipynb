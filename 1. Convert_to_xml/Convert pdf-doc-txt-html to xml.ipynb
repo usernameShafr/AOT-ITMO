{
 "cells": [
  {
   "cell_type": "code",
   "execution_count": 69,
   "metadata": {},
   "outputs": [],
   "source": [
    "import xml.etree.ElementTree as ET\n",
    "import docx\n",
    "import fitz"
   ]
  },
  {
   "cell_type": "code",
   "execution_count": 70,
   "metadata": {},
   "outputs": [],
   "source": [
    "def indent(elem, level=0):\n",
    "    i = \"\\n\" + level*\"  \"\n",
    "    if len(elem):\n",
    "        if not elem.text or not elem.text.strip():\n",
    "            elem.text = i + \"  \"\n",
    "        if not elem.tail or not elem.tail.strip():\n",
    "            elem.tail = i\n",
    "        for elem in elem:\n",
    "            indent(elem, level+1)\n",
    "        if not elem.tail or not elem.tail.strip():\n",
    "            elem.tail = i\n",
    "    else:\n",
    "        if level and (not elem.tail or not elem.tail.strip()):\n",
    "            elem.tail = i"
   ]
  },
  {
   "cell_type": "code",
   "execution_count": 74,
   "metadata": {},
   "outputs": [],
   "source": [
    "def pdf_to_xml(pdf_path,xml_path=''):\n",
    "    if xml_path == '':\n",
    "        xml_path = pdf_path + '.xml'\n",
    "    pdf = fitz.open(pdf_path)\n",
    "    root = ET.Element('doc')\n",
    "    for page in pdf:\n",
    "        blocks = page.getText(\"blocks\")\n",
    "        for block in blocks:\n",
    "            paragraph = ET.Element('paragraph', name='Paragraph № ' + str(block[5]))\n",
    "            text = ET.Element('text')\n",
    "            text.text = block[4]\n",
    "            paragraph.append(text)\n",
    "            root.append(paragraph)\n",
    "            \n",
    "    return root\n"
   ]
  },
  {
   "cell_type": "code",
   "execution_count": 75,
   "metadata": {},
   "outputs": [],
   "source": [
    "def doc_to_xml(doc_path,xml_path=''):\n",
    "    if xml_path == '':\n",
    "        xml_path = doc_path + '.xml'\n",
    "\n",
    "    doc = docx.Document(doc_path)\n",
    "\n",
    "    root = ET.Element('doc')\n",
    "    \n",
    "    for i in range(len(doc.paragraphs)):\n",
    "            paragraph = ET.Element('paragraph', name='Paragraph № ' + str(i))\n",
    "            text = ET.Element('text')\n",
    "            text.text = doc.paragraphs[i].text\n",
    "            paragraph.append(text)\n",
    "            root.append(paragraph)\n",
    "    return root\n"
   ]
  },
  {
   "cell_type": "code",
   "execution_count": 88,
   "metadata": {},
   "outputs": [],
   "source": [
    "def txt_to_xml(txt_path,xml_path=''):\n",
    "    if xml_path == '':\n",
    "        xml_path = txt_path + '.xml'\n",
    "    lines = []\n",
    "    with open(txt_path, \"r\") as fd:     \n",
    "        lines = fd.read().splitlines()\n",
    "    root = ET.Element('doc')\n",
    "    for i in range(len(lines)):\n",
    "            paragraph = ET.Element('paragraph', name='Paragraph № ' + str(i))\n",
    "            text = ET.Element('text')\n",
    "            text.text = lines[i]\n",
    "            paragraph.append(text)\n",
    "            root.append(paragraph)\n",
    "    return root\n"
   ]
  },
  {
   "cell_type": "code",
   "execution_count": null,
   "metadata": {},
   "outputs": [],
   "source": [
    "def html_to_xml(html_path,xml_path=''):\n",
    "    pass"
   ]
  },
  {
   "cell_type": "code",
   "execution_count": 90,
   "metadata": {},
   "outputs": [
    {
     "name": "stdout",
     "output_type": "stream",
     "text": [
      "<doc>\n",
      "  <paragraph name=\"Paragraph № 0\">\n",
      "    <text>Absad</text>\n",
      "  </paragraph>\n",
      "  <paragraph name=\"Paragraph № 1\">\n",
      "    <text>\tTextSome0 TextSome0 TextSome0 TextSome0 TextSome0 TextSome0</text>\n",
      "  </paragraph>\n",
      "  <paragraph name=\"Paragraph № 2\">\n",
      "    <text>TextSome1 TextSome1 TextSome1 TextSome1 TextSome1 TextSome1 TextSome1 TextSome1 TextSome1 TextSome1 TextSome1 TextSome1 TextSome1 TextSome1 TextSome1 TextSome1 TextSome1 TextSome1 TextSome1 TextSome1 TextSome1 TextSome1 TextSome1 TextSome1 TextSome1 TextSome1 TextSome1 TextSome1 TextSome1 TextSome1 TextSome1 TextSome1 TextSome1 TextSome1 TextSome1 TextSome1 TextSome1 TextSome1 TextSome1 TextSome1 TextSome1 TextSome1 TextSome1 TextSome1 TextSome1 TextSome1 TextSome1 TextSome1 TextSome1 TextSome1 TextSome1 TextSome1 TextSome1 TextSome1 TextSome1 TextSome1 TextSome1 TextSome1 TextSome1 TextSome1 TextSome1 TextSome1 TextSome1 TextSome1 TextSome1 TextSome1 TextSome1 TextSome1 TextSome1 TextSome1 TextSome1 TextSome1 TextSome1 TextSome1 TextSome1 TextSome1 TextSome1 TextSome1 TextSome1 TextSome1 TextSome1 TextSome1 TextSome1 TextSome1 TextSome1 TextSome1 TextSome1 TextSome1 TextSome1 TextSome1 TextSome1 TextSome1 TextSome1 TextSome1 TextSome1 TextSome1 TextSome1 TextSome1 TextSome1</text>\n",
      "  </paragraph>\n",
      "  <paragraph name=\"Paragraph № 3\">\n",
      "    <text />\n",
      "  </paragraph>\n",
      "  <paragraph name=\"Paragraph № 4\">\n",
      "    <text />\n",
      "  </paragraph>\n",
      "  <paragraph name=\"Paragraph № 5\">\n",
      "    <text>TextSome2 TextSome2 TextSome2 TextSome2 TextSome2 TextSome2 TextSome2 TextSome2 TextSome2 TextSome2 TextSome2 TextSome2 TextSome2 TextSome2 TextSome2 TextSome2 TextSome2 TextSome2 TextSome2 TextSome2 TextSome2 TextSome2 TextSome2 TextSome2 TextSome2 TextSome2 TextSome2 TextSome2 TextSome2 TextSome2 TextSome2 TextSome2 TextSome2 TextSome2 TextSome2 TextSome2 TextSome2 TextSome2 TextSome2 TextSome2 TextSome2 TextSome2 TextSome2 TextSome2 TextSome2 TextSome2 TextSome2 TextSome2 TextSome2 TextSome2 TextSome2 TextSome2 TextSome2 TextSome2 TextSome2</text>\n",
      "  </paragraph>\n",
      "</doc>\n",
      "\n"
     ]
    }
   ],
   "source": [
    "root = txt_to_xml('example.txt')\n",
    "indent(root)\n",
    "#etree = ET.ElementTree(root)\n",
    "#myfile = open(\"test_1.xml\" , \"wb\")\n",
    "#etree.write(myfile, encoding='utf-8', xml_declaration=True)\n",
    "xml_str = ET.tostring(root, encoding=\"utf-8\", method=\"xml\")\n",
    "print(xml_str.decode(encoding=\"utf-8\"))"
   ]
  },
  {
   "cell_type": "code",
   "execution_count": null,
   "metadata": {},
   "outputs": [],
   "source": []
  }
 ],
 "metadata": {
  "kernelspec": {
   "display_name": "Python 3",
   "language": "python",
   "name": "python3"
  },
  "language_info": {
   "codemirror_mode": {
    "name": "ipython",
    "version": 3
   },
   "file_extension": ".py",
   "mimetype": "text/x-python",
   "name": "python",
   "nbconvert_exporter": "python",
   "pygments_lexer": "ipython3",
   "version": "3.7.6"
  }
 },
 "nbformat": 4,
 "nbformat_minor": 4
}
