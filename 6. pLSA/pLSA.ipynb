{
  "nbformat": 4,
  "nbformat_minor": 0,
  "metadata": {
    "kernelspec": {
      "display_name": "Python 3",
      "language": "python",
      "name": "python3"
    },
    "language_info": {
      "codemirror_mode": {
        "name": "ipython",
        "version": 3
      },
      "file_extension": ".py",
      "mimetype": "text/x-python",
      "name": "python",
      "nbconvert_exporter": "python",
      "pygments_lexer": "ipython3",
      "version": "3.6.5"
    },
    "colab": {
      "name": "pLSA.ipynb",
      "provenance": []
    }
  },
  "cells": [
    {
      "cell_type": "code",
      "metadata": {
        "id": "AK_VskkC5wfj",
        "colab_type": "code",
        "colab": {}
      },
      "source": [
        "import numpy as np\n",
        "import codecs\n",
        "import regex as re\n",
        "import spacy\n",
        "import en_core_web_sm\n",
        "from collections import defaultdict\n",
        "from pylab import random\n",
        "import pandas as pd\n",
        "from scipy.stats.stats import pearsonr\n",
        "import word2vec"
      ],
      "execution_count": 0,
      "outputs": []
    },
    {
      "cell_type": "code",
      "metadata": {
        "id": "a7lwIEyI59Mb",
        "colab_type": "code",
        "colab": {
          "base_uri": "https://localhost:8080/",
          "height": 292
        },
        "outputId": "e5a6e533-e62b-4b6e-d10c-d39d1793adef"
      },
      "source": [
        "!pip install word2vec"
      ],
      "execution_count": 3,
      "outputs": [
        {
          "output_type": "stream",
          "text": [
            "Collecting word2vec\n",
            "\u001b[?25l  Downloading https://files.pythonhosted.org/packages/11/9e/dc6d96578191b6167cb1ea4a3fe3edeed0dce54d3db21ada013b2b407d65/word2vec-0.11.1.tar.gz (42kB)\n",
            "\r\u001b[K     |███████▊                        | 10kB 8.2MB/s eta 0:00:01\r\u001b[K     |███████████████▌                | 20kB 1.6MB/s eta 0:00:01\r\u001b[K     |███████████████████████▎        | 30kB 2.1MB/s eta 0:00:01\r\u001b[K     |███████████████████████████████ | 40kB 2.3MB/s eta 0:00:01\r\u001b[K     |████████████████████████████████| 51kB 1.6MB/s \n",
            "\u001b[?25h  Installing build dependencies ... \u001b[?25l\u001b[?25hdone\n",
            "  Getting requirements to build wheel ... \u001b[?25l\u001b[?25hdone\n",
            "    Preparing wheel metadata ... \u001b[?25l\u001b[?25hdone\n",
            "Requirement already satisfied: numpy>=1.9.2 in /usr/local/lib/python3.6/dist-packages (from word2vec) (1.18.5)\n",
            "Requirement already satisfied: joblib in /usr/local/lib/python3.6/dist-packages (from word2vec) (0.15.1)\n",
            "Building wheels for collected packages: word2vec\n",
            "  Building wheel for word2vec (PEP 517) ... \u001b[?25l\u001b[?25hdone\n",
            "  Created wheel for word2vec: filename=word2vec-0.11.1-cp36-none-any.whl size=156401 sha256=5c3fb9bb8b748b1d32a98d9996c7ac8e76d5230dbb4917b018ce4abd1c849201\n",
            "  Stored in directory: /root/.cache/pip/wheels/f3/7c/ac/fcb6d867f806021c3730fd848970db988b1d0030b5d20c0e02\n",
            "Successfully built word2vec\n",
            "Installing collected packages: word2vec\n",
            "Successfully installed word2vec-0.11.1\n"
          ],
          "name": "stdout"
        }
      ]
    },
    {
      "cell_type": "markdown",
      "metadata": {
        "id": "BXm3U6kQ5wfq",
        "colab_type": "text"
      },
      "source": [
        " N - количество документов\n",
        " M - длина словаря слов\n",
        " К - кол-во тематик"
      ]
    },
    {
      "cell_type": "code",
      "metadata": {
        "id": "96uzpUzV5wfr",
        "colab_type": "code",
        "colab": {}
      },
      "source": [
        "def stepE():\n",
        "    for i in range(N):\n",
        "        for j in range(M):\n",
        "            denominator = 0\n",
        "            for k in range(K):\n",
        "                p[i, j, k] = fi[j, k] * theta[k, i]\n",
        "                denominator += p[i, j, k]\n",
        "            if denominator == 0:\n",
        "                for k in range(0, K):\n",
        "                    p[i, j, k] = 0\n",
        "            else:\n",
        "                for k in range(0, K):\n",
        "                    p[i, j, k] /= denominator"
      ],
      "execution_count": 0,
      "outputs": []
    },
    {
      "cell_type": "code",
      "metadata": {
        "id": "mg7nDvBI5wfw",
        "colab_type": "code",
        "colab": {}
      },
      "source": [
        "def stepM():\n",
        "    # update fi\n",
        "    for k in range(0, K):\n",
        "        denominator = 0\n",
        "        for j in range(0, M):\n",
        "            fi[j, k] = 0\n",
        "            for i in range(0, N):\n",
        "                fi[j, k] += X[i, j] * p[i, j, k]\n",
        "            denominator += fi[j, k]\n",
        "        if denominator == 0:\n",
        "            for j in range(0, M):\n",
        "                fi[j, k] = 1.0 / M\n",
        "        else:\n",
        "            for j in range(0, M):\n",
        "                fi[j, k] /= denominator\n",
        "    # update theta\n",
        "    for i in range(0, N):\n",
        "        for k in range(0, K):\n",
        "            theta[k,i] = 0\n",
        "            denominator = 0\n",
        "            for j in range(0, M):\n",
        "                theta[k,i] += X[i, j] * p[i, j, k]\n",
        "                denominator += X[i,j];\n",
        "            if denominator == 0:\n",
        "                theta[k,i] = 1.0 / K\n",
        "            else:\n",
        "                theta[k,i] /= denominator"
      ],
      "execution_count": 0,
      "outputs": []
    },
    {
      "cell_type": "code",
      "metadata": {
        "id": "JQoG1TLC5wf0",
        "colab_type": "code",
        "colab": {}
      },
      "source": [
        "file = codecs.open('datasets2.txt', 'r', 'utf-8')\n",
        "documents = [document.strip() for document in file] \n",
        "file.close()"
      ],
      "execution_count": 0,
      "outputs": []
    },
    {
      "cell_type": "code",
      "metadata": {
        "id": "JND126TJ5wf5",
        "colab_type": "code",
        "colab": {}
      },
      "source": [
        "file = codecs.open('sw.txt', 'r', 'utf-8')\n",
        "stopwords = [line.strip() for line in file] \n",
        "file.close()"
      ],
      "execution_count": 0,
      "outputs": []
    },
    {
      "cell_type": "code",
      "metadata": {
        "id": "d5AgKKqG6OZt",
        "colab_type": "code",
        "colab": {}
      },
      "source": [
        ""
      ],
      "execution_count": 0,
      "outputs": []
    },
    {
      "cell_type": "code",
      "metadata": {
        "id": "XF3GL_Gh5wf_",
        "colab_type": "code",
        "colab": {}
      },
      "source": [
        "pathCV = 'example3/' #Computer vision articles\n",
        "texts = []\n",
        "#получаем каждый документ и создаем корпус\n",
        "for i in range(10):\n",
        "    fileObj = codecs.open( str(i)+'.txt', \"r\", \"utf_8_sig\" )\n",
        "    text = fileObj.read() # или читайте по строке\n",
        "    texts.append(text)\n",
        "    fileObj.close()"
      ],
      "execution_count": 0,
      "outputs": []
    },
    {
      "cell_type": "code",
      "metadata": {
        "id": "NeEkss3s5wgE",
        "colab_type": "code",
        "colab": {}
      },
      "source": [
        "def remove_punctuation(text):\n",
        "    return re.sub(r'\\p{P}+', \"\", text)\n",
        "def change_num(text):\n",
        "    return re.sub(r'[\\d]+', \"1\", text)  "
      ],
      "execution_count": 0,
      "outputs": []
    },
    {
      "cell_type": "code",
      "metadata": {
        "id": "Lj6n-kXw5wgK",
        "colab_type": "code",
        "colab": {}
      },
      "source": [
        "nlp = en_core_web_sm.load()\n",
        "def lemmatization(text):\n",
        "    tx = change_num(remove_punctuation(text.lower()))\n",
        "    doc = nlp(tx)\n",
        "    return [token.lemma_ for token in doc if token.lemma_ not in stopwords]"
      ],
      "execution_count": 0,
      "outputs": []
    },
    {
      "cell_type": "code",
      "metadata": {
        "id": "8HOUq0Pc5wgO",
        "colab_type": "code",
        "colab": {}
      },
      "source": [
        "X_lem = [lemmatization(text) for text in texts]"
      ],
      "execution_count": 0,
      "outputs": []
    },
    {
      "cell_type": "code",
      "metadata": {
        "id": "Db-hA3KU5wgS",
        "colab_type": "code",
        "colab": {
          "base_uri": "https://localhost:8080/",
          "height": 34
        },
        "outputId": "a30391fe-c12c-4fdb-b730-aae415dd3b3b"
      },
      "source": [
        "N = len(X_lem)\n",
        "N"
      ],
      "execution_count": 12,
      "outputs": [
        {
          "output_type": "execute_result",
          "data": {
            "text/plain": [
              "10"
            ]
          },
          "metadata": {
            "tags": []
          },
          "execution_count": 12
        }
      ]
    },
    {
      "cell_type": "code",
      "metadata": {
        "id": "Bg7lFo4P5wgX",
        "colab_type": "code",
        "colab": {
          "base_uri": "https://localhost:8080/",
          "height": 34
        },
        "outputId": "99a040db-074c-4224-a58c-74cd86003dd6"
      },
      "source": [
        "tokens = defaultdict(int)#\n",
        "count_words =[]\n",
        "for doc in X_lem:\n",
        "    count_word = defaultdict(int)\n",
        "    for word in doc:\n",
        "        tokens[word] += 1\n",
        "        count_word[word] = +1\n",
        "    count_words.append(count_word)\n",
        "M = len(tokens)\n",
        "M"
      ],
      "execution_count": 13,
      "outputs": [
        {
          "output_type": "execute_result",
          "data": {
            "text/plain": [
              "3761"
            ]
          },
          "metadata": {
            "tags": []
          },
          "execution_count": 13
        }
      ]
    },
    {
      "cell_type": "code",
      "metadata": {
        "id": "dF_19ESU5wgc",
        "colab_type": "code",
        "colab": {}
      },
      "source": [
        ""
      ],
      "execution_count": 0,
      "outputs": []
    },
    {
      "cell_type": "code",
      "metadata": {
        "id": "b4SzCn095wgg",
        "colab_type": "code",
        "colab": {}
      },
      "source": [
        "words = []\n",
        "for key in tokens.keys():\n",
        "    words.append(key)"
      ],
      "execution_count": 0,
      "outputs": []
    },
    {
      "cell_type": "code",
      "metadata": {
        "id": "ntHlBfpX5wgk",
        "colab_type": "code",
        "colab": {}
      },
      "source": [
        "X = np.zeros([N, M])"
      ],
      "execution_count": 0,
      "outputs": []
    },
    {
      "cell_type": "code",
      "metadata": {
        "id": "PQzcU7d15wgo",
        "colab_type": "code",
        "colab": {}
      },
      "source": [
        "for j,word in enumerate(words):\n",
        "    for i,doc in enumerate(X_lem):\n",
        "        X[i,j] = count_words[i][word]"
      ],
      "execution_count": 0,
      "outputs": []
    },
    {
      "cell_type": "code",
      "metadata": {
        "id": "21Pejwy25wgs",
        "colab_type": "code",
        "colab": {
          "base_uri": "https://localhost:8080/",
          "height": 34
        },
        "outputId": "43c682fa-83e4-4fd2-eac2-174fd70f413a"
      },
      "source": [
        "X.shape"
      ],
      "execution_count": 17,
      "outputs": [
        {
          "output_type": "execute_result",
          "data": {
            "text/plain": [
              "(10, 3761)"
            ]
          },
          "metadata": {
            "tags": []
          },
          "execution_count": 17
        }
      ]
    },
    {
      "cell_type": "code",
      "metadata": {
        "id": "ZhhPbG4d5wgw",
        "colab_type": "code",
        "colab": {}
      },
      "source": [
        ""
      ],
      "execution_count": 0,
      "outputs": []
    },
    {
      "cell_type": "code",
      "metadata": {
        "id": "Lb76mkKv5wg1",
        "colab_type": "code",
        "colab": {}
      },
      "source": [
        "K = 20    # number of topic\n",
        "maxIteration = 20\n",
        "threshold = 10.0\n",
        "topicWordsNum = 10"
      ],
      "execution_count": 0,
      "outputs": []
    },
    {
      "cell_type": "code",
      "metadata": {
        "id": "eidHAZlL5wg4",
        "colab_type": "code",
        "colab": {}
      },
      "source": [
        "\n",
        "fi = random([M, K])\n",
        "theta = random([K, N])\n",
        "p = np.zeros([N, M, K])\n"
      ],
      "execution_count": 0,
      "outputs": []
    },
    {
      "cell_type": "code",
      "metadata": {
        "id": "f2y5Gv4B5wg9",
        "colab_type": "code",
        "colab": {}
      },
      "source": [
        "def initializeParameters():\n",
        "    for i in range(0, N):\n",
        "        normalization = sum(theta[:, i])\n",
        "        for j in range(0, K):\n",
        "            theta[j, i] /= normalization\n",
        "\n",
        "    for i in range(0, K):\n",
        "        normalization = sum(fi[:, i])\n",
        "        for j in range(0, M):\n",
        "            fi[j, i] /= normalization"
      ],
      "execution_count": 0,
      "outputs": []
    },
    {
      "cell_type": "code",
      "metadata": {
        "id": "VSp7OZak5whA",
        "colab_type": "code",
        "colab": {}
      },
      "source": [
        "def LogLikelihood():\n",
        "    loglikelihood = 0\n",
        "    for i in range(0, N):\n",
        "        for j in range(0, M):\n",
        "            tmp = 0\n",
        "            for k in range(0, K):\n",
        "                tmp += fi[j, k] * theta[k, i]\n",
        "            if tmp > 0:\n",
        "                loglikelihood += X[i, j] * np.log(tmp)\n",
        "    return loglikelihood"
      ],
      "execution_count": 0,
      "outputs": []
    },
    {
      "cell_type": "code",
      "metadata": {
        "id": "QDIGq7Z75whE",
        "colab_type": "code",
        "colab": {
          "base_uri": "https://localhost:8080/",
          "height": 238
        },
        "outputId": "d3d858ed-5a19-4524-999a-0fcdd98ef6b0"
      },
      "source": [
        "fi"
      ],
      "execution_count": 22,
      "outputs": [
        {
          "output_type": "execute_result",
          "data": {
            "text/plain": [
              "array([[0.87176673, 0.31729223, 0.33423961, ..., 0.73776586, 0.5821576 ,\n",
              "        0.10646816],\n",
              "       [0.57982809, 0.64899417, 0.24651361, ..., 0.86113476, 0.20775915,\n",
              "        0.65628451],\n",
              "       [0.58236969, 0.74701537, 0.47581509, ..., 0.40210217, 0.6812935 ,\n",
              "        0.43453442],\n",
              "       ...,\n",
              "       [0.36189699, 0.46753938, 0.08807306, ..., 0.61310563, 0.30635311,\n",
              "        0.67790166],\n",
              "       [0.87398279, 0.05679042, 0.06743001, ..., 0.9458455 , 0.71524665,\n",
              "        0.80332285],\n",
              "       [0.05486812, 0.00372845, 0.26326908, ..., 0.92848622, 0.1447642 ,\n",
              "        0.90879209]])"
            ]
          },
          "metadata": {
            "tags": []
          },
          "execution_count": 22
        }
      ]
    },
    {
      "cell_type": "code",
      "metadata": {
        "id": "LHd9795_5whH",
        "colab_type": "code",
        "colab": {}
      },
      "source": [
        "initializeParameters()"
      ],
      "execution_count": 0,
      "outputs": []
    },
    {
      "cell_type": "code",
      "metadata": {
        "id": "74nbBbWz5whN",
        "colab_type": "code",
        "colab": {
          "base_uri": "https://localhost:8080/",
          "height": 238
        },
        "outputId": "bb02df4d-c17e-422e-91c3-4b8d59a1f5db"
      },
      "source": [
        "fi"
      ],
      "execution_count": 24,
      "outputs": [
        {
          "output_type": "execute_result",
          "data": {
            "text/plain": [
              "array([[4.59103391e-04, 1.69984129e-04, 1.77326153e-04, ...,\n",
              "        3.92181223e-04, 3.15205526e-04, 5.67755232e-05],\n",
              "       [3.05358112e-04, 3.47688032e-04, 1.30784351e-04, ...,\n",
              "        4.57761604e-04, 1.12489869e-04, 3.49972192e-04],\n",
              "       [3.06696610e-04, 4.00201290e-04, 2.52437046e-04, ...,\n",
              "        2.13749280e-04, 3.68882028e-04, 2.31721096e-04],\n",
              "       ...,\n",
              "       [1.90587835e-04, 2.50476588e-04, 4.67259286e-05, ...,\n",
              "        3.25914399e-04, 1.65872941e-04, 3.61499819e-04],\n",
              "       [4.60270449e-04, 3.04245428e-05, 3.57740509e-05, ...,\n",
              "        5.02792096e-04, 3.87265745e-04, 4.28382291e-04],\n",
              "       [2.88955052e-05, 1.99745466e-06, 1.39673731e-04, ...,\n",
              "        4.93564261e-04, 7.83816531e-05, 4.84625124e-04]])"
            ]
          },
          "metadata": {
            "tags": []
          },
          "execution_count": 24
        }
      ]
    },
    {
      "cell_type": "code",
      "metadata": {
        "id": "x9VahIEL5whR",
        "colab_type": "code",
        "colab": {}
      },
      "source": [
        "import time"
      ],
      "execution_count": 0,
      "outputs": []
    },
    {
      "cell_type": "code",
      "metadata": {
        "id": "H9KqinkC5whW",
        "colab_type": "code",
        "colab": {
          "base_uri": "https://localhost:8080/",
          "height": 357
        },
        "outputId": "e54c4db4-02cb-49e6-d0b4-efae77012390"
      },
      "source": [
        "oldLoglikelihood = 1\n",
        "newLoglikelihood = 1\n",
        "for i in range(0, maxIteration):\n",
        "    stepE()\n",
        "    stepM()\n",
        "    newLoglikelihood = LogLikelihood()\n",
        "    print(\"[\", time.strftime('%Y-%m-%d %H:%M:%S',time.localtime(time.time())), \"] \", i+1, \" iteration  \", str(newLoglikelihood))\n",
        "    if(oldLoglikelihood != 1 and newLoglikelihood - oldLoglikelihood < threshold):\n",
        "        break\n",
        "    oldLoglikelihood = newLoglikelihood"
      ],
      "execution_count": 26,
      "outputs": [
        {
          "output_type": "stream",
          "text": [
            "[ 2020-06-13 18:21:10 ]  1  iteration   -45290.5407468616\n",
            "[ 2020-06-13 18:21:13 ]  2  iteration   -44416.928322569634\n",
            "[ 2020-06-13 18:21:16 ]  3  iteration   -43131.711587324164\n",
            "[ 2020-06-13 18:21:19 ]  4  iteration   -41576.83476504681\n",
            "[ 2020-06-13 18:21:23 ]  5  iteration   -40156.54618190933\n",
            "[ 2020-06-13 18:21:26 ]  6  iteration   -39087.14835700173\n",
            "[ 2020-06-13 18:21:29 ]  7  iteration   -38367.32969396076\n",
            "[ 2020-06-13 18:21:33 ]  8  iteration   -37947.52763101933\n",
            "[ 2020-06-13 18:21:36 ]  9  iteration   -37724.39840346361\n",
            "[ 2020-06-13 18:21:39 ]  10  iteration   -37611.69581141993\n",
            "[ 2020-06-13 18:21:42 ]  11  iteration   -37549.074362152416\n",
            "[ 2020-06-13 18:21:46 ]  12  iteration   -37505.58292039872\n",
            "[ 2020-06-13 18:21:49 ]  13  iteration   -37469.049938428725\n",
            "[ 2020-06-13 18:21:52 ]  14  iteration   -37434.32581753068\n",
            "[ 2020-06-13 18:21:55 ]  15  iteration   -37399.12529108484\n",
            "[ 2020-06-13 18:21:59 ]  16  iteration   -37363.28269388043\n",
            "[ 2020-06-13 18:22:02 ]  17  iteration   -37328.44776161985\n",
            "[ 2020-06-13 18:22:05 ]  18  iteration   -37298.15044508712\n",
            "[ 2020-06-13 18:22:08 ]  19  iteration   -37275.919121231025\n",
            "[ 2020-06-13 18:22:12 ]  20  iteration   -37262.23115553468\n"
          ],
          "name": "stdout"
        }
      ]
    },
    {
      "cell_type": "code",
      "metadata": {
        "id": "5kFbEAVn5whb",
        "colab_type": "code",
        "colab": {
          "base_uri": "https://localhost:8080/",
          "height": 34
        },
        "outputId": "4ad4b896-70eb-4228-c23f-8451d585175c"
      },
      "source": [
        "fi.shape"
      ],
      "execution_count": 27,
      "outputs": [
        {
          "output_type": "execute_result",
          "data": {
            "text/plain": [
              "(3761, 20)"
            ]
          },
          "metadata": {
            "tags": []
          },
          "execution_count": 27
        }
      ]
    },
    {
      "cell_type": "code",
      "metadata": {
        "id": "3FRRHJ-35whe",
        "colab_type": "code",
        "colab": {}
      },
      "source": [
        "tops_w =[]\n",
        "for i in range(0, K):\n",
        "    topicword = []\n",
        "    ids = fi[:, i].argsort()\n",
        "    for j in ids:\n",
        "        topicword.insert(0, words[j])\n",
        "    tmp = ''\n",
        "    for word in topicword[0:min(topicWordsNum, len(topicword))]:\n",
        "        tmp += word + ' '\n",
        "    tops_w.append(tmp)"
      ],
      "execution_count": 0,
      "outputs": []
    },
    {
      "cell_type": "code",
      "metadata": {
        "id": "BeA7XSw95whi",
        "colab_type": "code",
        "colab": {
          "base_uri": "https://localhost:8080/",
          "height": 357
        },
        "outputId": "bfcdd0ad-bbbd-470f-9b34-c0f4a38a1178"
      },
      "source": [
        "tops_w"
      ],
      "execution_count": 29,
      "outputs": [
        {
          "output_type": "execute_result",
          "data": {
            "text/plain": [
              "['hollow note variety flower feed pollen family wide change represent ',\n",
              " 'botanist imperfect systematic limb expose subtend stalk fourth petallike diagram ',\n",
              " 'fertilize adaptation decoration affection buy social compound ultraviolet corn cryogenian ',\n",
              " 'condition grass size rake shrub meadow system urban mini gallon ',\n",
              " 'pink morning vine lemon gold cook apple stone bulb strong ',\n",
              " 'shrub typical surround acre holly approach style soil maturation greenish ',\n",
              " 'dorsal link adaptive drink cluster image remarkable sinauer carnivorous organic ',\n",
              " 'comprise prevent frigida production expression tobrb1 render boss leaf spring ',\n",
              " 'leafy unopene gem complex squash light root chrysanthemum familiar lemonade ',\n",
              " 'meal send slice mature   glass real cucumber citrus invasive ',\n",
              " 'stamens extension multiple microsporangia irregular significance actinomorphic content zygomorphic filament ',\n",
              " 'fragrant strange palm maximum microscopic soldier explain scientific kingdom literally ',\n",
              " 'stratigraphic demise cheirolepidiaceae intensify uptake hettangian wall ephedroid accommodation encounter ',\n",
              " 'fern crisis live note bee feed smell typically associate conifer ',\n",
              " 'field complete germinate gather protect leave inspiration alive chris warm ',\n",
              " 'table fern estimate gymnosperm treatment water separate feed element circular ',\n",
              " 'arum sun stand feature flowering absorb 1th method contact pistil ',\n",
              " 'relieve precisely converge mcdaniel intron chromatin promotion sung responsive day ',\n",
              " 'allergy remove highly viola nectary depend classical selfpollinate daisy control ',\n",
              " 'rethink marie exchange valentine chemically shovel oversee discern sustenance hair ']"
            ]
          },
          "metadata": {
            "tags": []
          },
          "execution_count": 29
        }
      ]
    },
    {
      "cell_type": "code",
      "metadata": {
        "id": "otTkioSH5who",
        "colab_type": "code",
        "colab": {}
      },
      "source": [
        "data = pd.read_csv('wordsim_similarity_goldstandard.txt',sep='\\t', names=['word1','word2','sim'])"
      ],
      "execution_count": 0,
      "outputs": []
    },
    {
      "cell_type": "code",
      "metadata": {
        "id": "eU-Z1g6Y5whs",
        "colab_type": "code",
        "colab": {}
      },
      "source": [
        "word1 = data['word1'].values\n",
        "word2 = data['word2'].values\n",
        "scores = data['sim'].values"
      ],
      "execution_count": 0,
      "outputs": []
    },
    {
      "cell_type": "code",
      "metadata": {
        "id": "c9TsCosu5whv",
        "colab_type": "code",
        "colab": {}
      },
      "source": [
        "indexs = []\n",
        "for k,w in enumerate(zip(word1,word2)):\n",
        "    if (w[0] in words) and (w[1] in words):\n",
        "        indexs.append(k)"
      ],
      "execution_count": 0,
      "outputs": []
    },
    {
      "cell_type": "code",
      "metadata": {
        "id": "JrVAKivE5why",
        "colab_type": "code",
        "colab": {
          "base_uri": "https://localhost:8080/",
          "height": 34
        },
        "outputId": "e4b8e4bf-a3c8-46a7-909e-8730c5b9868e"
      },
      "source": [
        "len(indexs)"
      ],
      "execution_count": 33,
      "outputs": [
        {
          "output_type": "execute_result",
          "data": {
            "text/plain": [
              "28"
            ]
          },
          "metadata": {
            "tags": []
          },
          "execution_count": 33
        }
      ]
    },
    {
      "cell_type": "code",
      "metadata": {
        "id": "RKpgtAit5wh2",
        "colab_type": "code",
        "colab": {}
      },
      "source": [
        "def cos(A,B):\n",
        "    SumA = 0 \n",
        "    SumB = 0\n",
        "    SumAB = 0\n",
        "    for i in range(len(A)):\n",
        "        SumAB += A[i]*B[i]\n",
        "        SumA += A[i]**2\n",
        "        SumB += B[i]**2\n",
        "    return SumAB/(np.sqrt(SumA)*np.sqrt(SumB))\n",
        "\n",
        "def jac(A,B):\n",
        "\n",
        "    SumA = 0 \n",
        "    SumB = 0\n",
        "    for i in range(len(A)):\n",
        "        SumA += min(A[i],B[i])\n",
        "        SumB += max(A[i],B[i])\n",
        "    return SumA/SumB\n",
        "\n",
        "def KL(A,B):\n",
        "    Sum = 0\n",
        "    for i in range (len(A)):\n",
        "        if (A[i] != 0) and (B[i] != 0):\n",
        "            \n",
        "            Sum += A[i] * np.log(abs(A[i]/B[i]))\n",
        "    return Sum\n",
        "\n",
        "def JS(A,B):\n",
        "    AB = [(u[0]+u[1])/2 for u in zip(A,B)]\n",
        "    return (KL(A,AB)+KL(B,AB))/2"
      ],
      "execution_count": 0,
      "outputs": []
    },
    {
      "cell_type": "code",
      "metadata": {
        "id": "th9MVQ5H5wh6",
        "colab_type": "code",
        "colab": {
          "base_uri": "https://localhost:8080/",
          "height": 34
        },
        "outputId": "9e75de6a-a4cd-4736-b4e1-e77a2e9b5020"
      },
      "source": [
        "C =[]\n",
        "cos_dist = []\n",
        "jac_dist = []\n",
        "KL_dist = []\n",
        "JS_dist = []\n",
        "SC = []\n",
        "for j in indexs:\n",
        "    index_w1 = words.index(word1[j])\n",
        "    index_w2 = words.index(word2[j])\n",
        "    A = fi[index_w1]\n",
        "    B = fi[index_w2]\n",
        "    \n",
        "    cos_dist.append(cos(A,B))\n",
        "    jac_dist.append(jac(A,B))\n",
        "    KL_dist.append(KL(A,B))\n",
        "    JS_dist.append(JS(A,B))\n",
        "    SC.append(scores[j])\n",
        "    \n",
        "C.append((pearsonr(cos_dist,SC)[0],pearsonr(jac_dist,SC)[0],pearsonr(KL_dist,SC)[0],pearsonr(JS_dist,SC)[0]))\n",
        "print(C)   "
      ],
      "execution_count": 89,
      "outputs": [
        {
          "output_type": "stream",
          "text": [
            "[(0.1388714361329138, 0.06961769064505717, -0.4581396830579761, 0.11475011959413661)]\n"
          ],
          "name": "stdout"
        }
      ]
    },
    {
      "cell_type": "code",
      "metadata": {
        "id": "1k4l-uYY-K_t",
        "colab_type": "code",
        "colab": {}
      },
      "source": [
        "from gensim.models.word2vec import Word2Vec\n",
        "from multiprocessing import cpu_count\n",
        "import gensim.downloader as api"
      ],
      "execution_count": 0,
      "outputs": []
    },
    {
      "cell_type": "code",
      "metadata": {
        "id": "yLTc9_KOCY0d",
        "colab_type": "code",
        "colab": {}
      },
      "source": [
        "model = Word2Vec(X_lem, min_count = 0, workers=cpu_count())"
      ],
      "execution_count": 0,
      "outputs": []
    },
    {
      "cell_type": "code",
      "metadata": {
        "id": "rmP7QYFMC8nX",
        "colab_type": "code",
        "colab": {
          "base_uri": "https://localhost:8080/",
          "height": 122
        },
        "outputId": "7db431b0-c1fe-440e-d153-c2fe3d6daf17"
      },
      "source": [
        "\n",
        "cos_dist = []\n",
        "jac_dist = []\n",
        "KL_dist = []\n",
        "JS_dist = []\n",
        "SC = []\n",
        "for j in indexs:\n",
        "    \n",
        "    \n",
        "    A = model[word1[j]]\n",
        "    B = model[word2[j]]\n",
        "    \n",
        "    cos_dist.append(cos(A,B))\n",
        "    jac_dist.append(jac(A,B))\n",
        "    KL_dist.append(KL(A,B))\n",
        "    JS_dist.append(JS(A,B))\n",
        "    SC.append(scores[j])\n",
        "    \n",
        "C.append((pearsonr(cos_dist,SC)[0],pearsonr(jac_dist,SC)[0],pearsonr(KL_dist,SC)[0],pearsonr(JS_dist,SC)[0]))\n",
        "print(C)   "
      ],
      "execution_count": 90,
      "outputs": [
        {
          "output_type": "stream",
          "text": [
            "[(0.1388714361329138, 0.06961769064505717, -0.4581396830579761, 0.11475011959413661), (0.02648273086425529, -0.29082640468983234, -0.16566613479962577, 0.024905529791701495)]\n"
          ],
          "name": "stdout"
        },
        {
          "output_type": "stream",
          "text": [
            "/usr/local/lib/python3.6/dist-packages/ipykernel_launcher.py:10: DeprecationWarning: Call to deprecated `__getitem__` (Method will be removed in 4.0.0, use self.wv.__getitem__() instead).\n",
            "  # Remove the CWD from sys.path while we load stuff.\n",
            "/usr/local/lib/python3.6/dist-packages/ipykernel_launcher.py:11: DeprecationWarning: Call to deprecated `__getitem__` (Method will be removed in 4.0.0, use self.wv.__getitem__() instead).\n",
            "  # This is added back by InteractiveShellApp.init_path()\n"
          ],
          "name": "stderr"
        }
      ]
    },
    {
      "cell_type": "code",
      "metadata": {
        "id": "O0hVRBYJIFQU",
        "colab_type": "code",
        "colab": {
          "base_uri": "https://localhost:8080/",
          "height": 51
        },
        "outputId": "efc78cb9-5ded-4576-ae59-0594e5ae217c"
      },
      "source": [
        "print('PLSA:',C[0]) \n",
        "print('word2vec:',C[1])"
      ],
      "execution_count": 93,
      "outputs": [
        {
          "output_type": "stream",
          "text": [
            "PLSA: (0.1388714361329138, 0.06961769064505717, -0.4581396830579761, 0.11475011959413661)\n",
            "word2vec: (0.02648273086425529, -0.29082640468983234, -0.16566613479962577, 0.024905529791701495)\n"
          ],
          "name": "stdout"
        }
      ]
    }
  ]
}