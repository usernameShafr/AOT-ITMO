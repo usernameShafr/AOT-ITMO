{
 "cells": [
  {
   "cell_type": "markdown",
   "metadata": {},
   "source": [
    "# Задание 1\n",
    "Необходимо составить регулярку для поиска времени в тексте. Время имеет формат часы:минуты. И часы, и минуты состоят из двух цифр, пример: 09:00. Напишите регулярное выражение для поиска времени в строке: «Завтрак в 09:00». Учтите, что «37:98» – некорректное время."
   ]
  },
  {
   "cell_type": "code",
   "execution_count": 1,
   "metadata": {},
   "outputs": [
    {
     "name": "stdout",
     "output_type": "stream",
     "text": [
      " 03:45 \n"
     ]
    }
   ],
   "source": [
    "import re\n",
    " \n",
    "string = \"Завтрак в 03:45 fdd\"\n",
    "pattern = '\\s(2[0-3]|[0-1]\\d:[0-5]\\d)\\s'\n",
    " \n",
    "a = re.search(pattern, string)\n",
    "if a:\n",
    "    print(a.group())\n",
    "else:\n",
    "    print('Nothing found')"
   ]
  },
  {
   "cell_type": "markdown",
   "metadata": {},
   "source": [
    "# Задание 2\n",
    "Токенизировать текст"
   ]
  },
  {
   "cell_type": "markdown",
   "metadata": {},
   "source": [
    "WordBrokers = \"\\;\\:\\-\\—\\<\\>\\\\\\\"\\.\\,\\!\\?\\&\\=\\+\\(\\)\\{\\}\\[\\]\\r\\n\\t\\« \\»\\“\\”\\„\\/\""
   ]
  },
  {
   "cell_type": "code",
   "execution_count": 2,
   "metadata": {},
   "outputs": [],
   "source": [
    "text = \"\"\"\\ Mr. Smith bought cheapsite.com for 1.5 million dollars, ie he paid a lot for it. Did he mind?\n",
    "Adam Jones Jr. thinks he didn't. In any case, this isn't true... Well, with a probability of .9 it isn't. \"\"\" \n",
    "def tokinization(text):\n",
    "    \n",
    "    doc = re.split(r' *[\\;\\:\\-\\—\\<\\>\\\\\\\"\\.\\,\\!\\?\\&\\=\\+\\(\\)\\{\\}\\[\\]\\r\\n\\t\\« \\»\\“\\”\\„\\/\\d ]*\\s', text) \n",
    "    tokens = set()\n",
    "    for token in doc: \n",
    "        tokens.add(token.lower())\n",
    "    tokens.discard('')\n",
    "    tokens_array = []\n",
    "    for token in tokens:\n",
    "        tokens_array.append(token)\n",
    "        \n",
    "    return tokens_array"
   ]
  },
  {
   "cell_type": "markdown",
   "metadata": {},
   "source": [
    "# Задание 3\n",
    "Реализовать три алгоритма, имеряющих расстояние между словами"
   ]
  },
  {
   "cell_type": "markdown",
   "metadata": {},
   "source": [
    "#### Расстояние Хэмминга\n",
    "Расстояние Хэмминга  — это количество различающихся позиций для строк."
   ]
  },
  {
   "cell_type": "code",
   "execution_count": 3,
   "metadata": {},
   "outputs": [],
   "source": [
    "def hemming_distance(s1,s2):\n",
    "    dist = 0\n",
    "    max_len = max(len(s1),len(s2))\n",
    "    min_len = min(len(s1),len(s2))\n",
    "    for i in range(min_len):\n",
    "        if s1[i] != s2[i]:\n",
    "            dist += 1\n",
    "    dist += (max_len - min_len)\n",
    "    return dist/max_len"
   ]
  },
  {
   "cell_type": "code",
   "execution_count": 4,
   "metadata": {},
   "outputs": [
    {
     "data": {
      "text/plain": [
       "0.0"
      ]
     },
     "execution_count": 4,
     "metadata": {},
     "output_type": "execute_result"
    }
   ],
   "source": [
    "s1 = \"wqeew\"\n",
    "s2 = \"weqew\"\n",
    "hemming_distance(s1,s1)"
   ]
  },
  {
   "cell_type": "markdown",
   "metadata": {},
   "source": [
    "#### Расстояние Джаро\n",
    "Расстояние Джаро - dj между двумя заданными строками s1 и s2 это: \n",
    "* dj = (m/a + m/b + (m-t)/m)/3\n",
    "\n",
    "Где:\n",
    "* a — длина строки s1\n",
    "* b - длина строки s2\n",
    "* m — число совпадающих символов (см. ниже)\n",
    "* t — половина числа транспозиций (см. ниже)\n",
    "\n",
    "Два символа из s1 и s2 соответственно, считаются совпадающими только: если они одинаковы, и их позиции относительно друг-друга находятся не дальше, чем на d - максимальное расстояние для поиска,\n",
    "\n",
    "Где:\n",
    "* d = int(max(a,b)/2)-1\n",
    "\n",
    "Каждый символ строки s1 сравнивается со всеми символами в s2 на допустимом расстоянии d. Количество совпадающих (но отличающихся порядковыми номерами) символов, которое делится на 2, определяет число транспозиций - tr. \n",
    "\n",
    "Таким образом:\n",
    "* t = int(tr/2);"
   ]
  },
  {
   "cell_type": "code",
   "execution_count": 5,
   "metadata": {},
   "outputs": [],
   "source": [
    "def jaro_distance(str1,str2):\n",
    "    if len(str1) > len(str2):\n",
    "        s1 = str2\n",
    "        s2 = str1\n",
    "    else:\n",
    "        s1 = str1\n",
    "        s2 = str2\n",
    "    dist = 0\n",
    "    max_len = max(len(s1),len(s2))\n",
    "    min_len = min(len(s1),len(s2))\n",
    "    a = len(s1)\n",
    "    b = len(s2)\n",
    "    d = int(max_len/2)-1\n",
    "    e = 0\n",
    "    m = 0\n",
    "    for i in range(min_len):\n",
    "        if s1[i] == s2[i]:\n",
    "            e += 1\n",
    "            m += 1\n",
    "            continue \n",
    "        j = i-d\n",
    "        if j<0 : \n",
    "            j=0\n",
    "        if s2.find(s1[i],j,i+d) != -1:\n",
    "            m += 1\n",
    "    t = int((m - e + 1)/2)\n",
    "    if m==0:\n",
    "        return  1\n",
    "    else:\n",
    "        return 1-(m/a+m/b +(m-t)/m)/3\n",
    "    \n",
    "    "
   ]
  },
  {
   "cell_type": "markdown",
   "metadata": {},
   "source": [
    "#### Расстояние Джаро — Винклера\n",
    "Расстояние Джаро — Винклера использует коэффициент масштабирования - p, что дает более благоприятные рейтинги строкам, которые совпадают друг с другом от начала до определённой длины - L, которая называется префиксом. Даны две строки s1 и s2. Их расстояние Джаро — Винклера dw это:\n",
    "* dw = dj + (L * p * (1-dj));\n",
    "\n",
    "где:\n",
    "* dj — расстояние Джаро для строк s1 и s2\n",
    "* L - длина общего префикса от начала строки до максимума 4-х символов. (цепочка совпавших символов с тождественными порядковыми номерами)\n",
    "* p — постоянный коэффициент масштабирования, использующийся для того, чтобы скорректировать оценку в сторону повышения для выявления наличия общих префиксов. p не должен превышать 0,25, поскольку в противном случае расстояние может стать больше, чем 1. Стандартное значение этой константы в работе Винклера: p=0.1;"
   ]
  },
  {
   "cell_type": "code",
   "execution_count": 6,
   "metadata": {},
   "outputs": [],
   "source": [
    "def jaro_vinkler_distance(str1,str2,p=0.1):\n",
    "    if len(str1) > len(str2):\n",
    "        s1 = str2\n",
    "        s2 = str1\n",
    "    else:\n",
    "        s1 = str1\n",
    "        s2 = str2\n",
    "    dist = 0\n",
    "    max_len = max(len(s1),len(s2))\n",
    "    min_len = min(len(s1),len(s2))\n",
    "    a = len(s1)\n",
    "    b = len(s2)\n",
    "    d = int(max_len/2)-1\n",
    "    e = 0\n",
    "    m = 0\n",
    "    L = 0\n",
    "    \n",
    "    for i in range(min_len):\n",
    "        if s1[i] == s2[i]:\n",
    "            e += 1\n",
    "            m += 1\n",
    "            if i == L:\n",
    "                L += 1\n",
    "            continue \n",
    "        j = i-d\n",
    "        if j<0 : \n",
    "            j=0\n",
    "        if s2.find(s1[i],j,i+d) != -1:\n",
    "            m += 1\n",
    "    t = int((m - e + 1)/2) #добавлена +1 для корректногго округления\n",
    "    if m==0:\n",
    "        dj = 0\n",
    "    else:\n",
    "        dj = (m/a+m/b +(m-t)/m)/3\n",
    "    if L>4: L=4\n",
    "   \n",
    "    \n",
    "    return 1-(dj + (L * p * (1-dj)))\n",
    "        "
   ]
  },
  {
   "cell_type": "code",
   "execution_count": 7,
   "metadata": {},
   "outputs": [
    {
     "data": {
      "text/plain": [
       "0.06666666666666676"
      ]
     },
     "execution_count": 7,
     "metadata": {},
     "output_type": "execute_result"
    }
   ],
   "source": [
    "s3 =\"РАЗРАБОТ\"\n",
    "s4 = \"РАЗРАБОТКА\"\n",
    "jaro_distance(s3,s4)\n"
   ]
  },
  {
   "cell_type": "code",
   "execution_count": 8,
   "metadata": {},
   "outputs": [
    {
     "data": {
      "text/plain": [
       "0.040000000000000036"
      ]
     },
     "execution_count": 8,
     "metadata": {},
     "output_type": "execute_result"
    }
   ],
   "source": [
    "jaro_vinkler_distance(s3,s4)"
   ]
  },
  {
   "cell_type": "markdown",
   "metadata": {},
   "source": [
    "# Задание 4\n",
    "Реализовать иерархическую кластеризацию.\n",
    "\n",
    "Была реализована кластеризация агломеративным методом ближайшего соседа."
   ]
  },
  {
   "cell_type": "code",
   "execution_count": 9,
   "metadata": {},
   "outputs": [],
   "source": [
    "import numpy as np"
   ]
  },
  {
   "cell_type": "code",
   "execution_count": 10,
   "metadata": {},
   "outputs": [],
   "source": [
    "def sortSecond(val): \n",
    "    return val[2]"
   ]
  },
  {
   "cell_type": "code",
   "execution_count": 11,
   "metadata": {},
   "outputs": [],
   "source": [
    "def classification(text,dist_method = hemming_distance):\n",
    "    \n",
    "    tokens = tokinization(text)\n",
    "    size = len(tokens)\n",
    "    \n",
    "    cluster = []\n",
    "    y = []\n",
    "    \n",
    "    for i in range(size):\n",
    "        y.append(i)\n",
    "        for j in np.arange(i+1,size,1):\n",
    "            dist = dist_method(tokens[i],tokens[j])\n",
    "            cluster.append((i,j,dist))\n",
    "    \n",
    "    cluster.sort(key = sortSecond)\n",
    "    \n",
    "    num_cluster = len(y)\n",
    "    for i in range(len(cluster)):\n",
    "        pred_a = y[cluster[i][0]]\n",
    "        pred_b = y[cluster[i][1]]\n",
    "        if pred_a != pred_b:\n",
    "            for j in range(len(y)):\n",
    "                if (y[j] ==pred_a)|(y[j] ==pred_b):\n",
    "                    y[j] = num_cluster\n",
    "            y[cluster[i][0]] = y[cluster[i][1]] = num_cluster\n",
    "            print(\"Step {}: clusters ({} and {})----> cluster: {} (dist={}) \".format(\n",
    "                num_cluster-len(y)+1,pred_a,pred_b,num_cluster,cluster[i][2]))\n",
    "            num_cluster += 1"
   ]
  },
  {
   "cell_type": "code",
   "execution_count": 12,
   "metadata": {},
   "outputs": [],
   "source": [
    "test_text = \"Мама руки раму\"\n"
   ]
  },
  {
   "cell_type": "code",
   "execution_count": 13,
   "metadata": {},
   "outputs": [
    {
     "name": "stdout",
     "output_type": "stream",
     "text": [
      "Step 1: clusters (10 and 18)----> cluster: 30 (dist=0.11666666666666659) \n",
      "Step 2: clusters (24 and 28)----> cluster: 31 (dist=0.17500000000000004) \n",
      "Step 3: clusters (1 and 7)----> cluster: 32 (dist=0.20000000000000007) \n",
      "Step 4: clusters (32 and 20)----> cluster: 33 (dist=0.22499999999999998) \n",
      "Step 5: clusters (8 and 15)----> cluster: 34 (dist=0.30000000000000004) \n",
      "Step 6: clusters (34 and 29)----> cluster: 35 (dist=0.30000000000000004) \n",
      "Step 7: clusters (0 and 13)----> cluster: 36 (dist=0.32380952380952377) \n",
      "Step 8: clusters (2 and 35)----> cluster: 37 (dist=0.33333333333333337) \n",
      "Step 9: clusters (6 and 14)----> cluster: 38 (dist=0.33333333333333337) \n",
      "Step 10: clusters (30 and 17)----> cluster: 39 (dist=0.34444444444444444) \n",
      "Step 11: clusters (16 and 27)----> cluster: 40 (dist=0.35769230769230775) \n",
      "Step 12: clusters (39 and 36)----> cluster: 41 (dist=0.36111111111111116) \n",
      "Step 13: clusters (41 and 38)----> cluster: 42 (dist=0.375) \n",
      "Step 14: clusters (33 and 37)----> cluster: 43 (dist=0.38888888888888895) \n",
      "Step 15: clusters (42 and 23)----> cluster: 44 (dist=0.39) \n",
      "Step 16: clusters (43 and 44)----> cluster: 45 (dist=0.39) \n",
      "Step 17: clusters (45 and 9)----> cluster: 46 (dist=0.40476190476190477) \n",
      "Step 18: clusters (46 and 21)----> cluster: 47 (dist=0.40476190476190477) \n",
      "Step 19: clusters (47 and 11)----> cluster: 48 (dist=0.41666666666666663) \n",
      "Step 20: clusters (3 and 26)----> cluster: 49 (dist=0.44444444444444453) \n",
      "Step 21: clusters (48 and 40)----> cluster: 50 (dist=0.4487179487179488) \n",
      "Step 22: clusters (5 and 50)----> cluster: 51 (dist=0.44999999999999996) \n",
      "Step 23: clusters (51 and 31)----> cluster: 52 (dist=0.44999999999999996) \n",
      "Step 24: clusters (52 and 22)----> cluster: 53 (dist=0.4696969696969697) \n",
      "Step 25: clusters (49 and 53)----> cluster: 54 (dist=0.4722222222222222) \n",
      "Step 26: clusters (54 and 12)----> cluster: 55 (dist=0.5) \n",
      "Step 27: clusters (4 and 55)----> cluster: 56 (dist=0.5) \n",
      "Step 28: clusters (56 and 25)----> cluster: 57 (dist=0.5166666666666666) \n",
      "Step 29: clusters (57 and 19)----> cluster: 58 (dist=0.7777777777777778) \n"
     ]
    }
   ],
   "source": [
    "classification(text,jaro_vinkler_distance)"
   ]
  },
  {
   "cell_type": "code",
   "execution_count": 14,
   "metadata": {},
   "outputs": [
    {
     "name": "stdout",
     "output_type": "stream",
     "text": [
      "Step 1: clusters (10 and 18)----> cluster: 30 (dist=0.16666666666666663) \n",
      "Step 2: clusters (1 and 7)----> cluster: 31 (dist=0.22222222222222232) \n",
      "Step 3: clusters (31 and 20)----> cluster: 32 (dist=0.25) \n",
      "Step 4: clusters (24 and 28)----> cluster: 33 (dist=0.25) \n",
      "Step 5: clusters (2 and 15)----> cluster: 34 (dist=0.33333333333333337) \n",
      "Step 6: clusters (6 and 14)----> cluster: 35 (dist=0.33333333333333337) \n",
      "Step 7: clusters (8 and 34)----> cluster: 36 (dist=0.33333333333333337) \n",
      "Step 8: clusters (36 and 29)----> cluster: 37 (dist=0.33333333333333337) \n",
      "Step 9: clusters (30 and 17)----> cluster: 38 (dist=0.34444444444444444) \n",
      "Step 10: clusters (38 and 13)----> cluster: 39 (dist=0.36111111111111116) \n",
      "Step 11: clusters (32 and 37)----> cluster: 40 (dist=0.38888888888888895) \n",
      "Step 12: clusters (16 and 27)----> cluster: 41 (dist=0.39743589743589747) \n",
      "Step 13: clusters (0 and 9)----> cluster: 42 (dist=0.40476190476190477) \n",
      "Step 14: clusters (42 and 39)----> cluster: 43 (dist=0.40476190476190477) \n",
      "Step 15: clusters (43 and 21)----> cluster: 44 (dist=0.40476190476190477) \n",
      "Step 16: clusters (40 and 44)----> cluster: 45 (dist=0.41666666666666663) \n",
      "Step 17: clusters (35 and 11)----> cluster: 46 (dist=0.41666666666666663) \n",
      "Step 18: clusters (45 and 46)----> cluster: 47 (dist=0.41666666666666663) \n",
      "Step 19: clusters (47 and 23)----> cluster: 48 (dist=0.43333333333333335) \n",
      "Step 20: clusters (3 and 26)----> cluster: 49 (dist=0.44444444444444453) \n",
      "Step 21: clusters (48 and 41)----> cluster: 50 (dist=0.4487179487179488) \n",
      "Step 22: clusters (50 and 33)----> cluster: 51 (dist=0.4508547008547009) \n",
      "Step 23: clusters (51 and 22)----> cluster: 52 (dist=0.4696969696969697) \n",
      "Step 24: clusters (49 and 5)----> cluster: 53 (dist=0.4722222222222222) \n",
      "Step 25: clusters (53 and 52)----> cluster: 54 (dist=0.4722222222222222) \n",
      "Step 26: clusters (54 and 12)----> cluster: 55 (dist=0.5) \n",
      "Step 27: clusters (4 and 55)----> cluster: 56 (dist=0.5) \n",
      "Step 28: clusters (56 and 25)----> cluster: 57 (dist=0.5166666666666666) \n",
      "Step 29: clusters (57 and 19)----> cluster: 58 (dist=0.7777777777777778) \n"
     ]
    }
   ],
   "source": [
    "classification(text,jaro_distance)"
   ]
  },
  {
   "cell_type": "code",
   "execution_count": 15,
   "metadata": {},
   "outputs": [
    {
     "name": "stdout",
     "output_type": "stream",
     "text": [
      "Step 1: clusters (2 and 15)----> cluster: 30 (dist=0.5) \n",
      "Step 2: clusters (6 and 14)----> cluster: 31 (dist=0.5) \n",
      "Step 3: clusters (8 and 30)----> cluster: 32 (dist=0.5) \n",
      "Step 4: clusters (32 and 29)----> cluster: 33 (dist=0.5) \n",
      "Step 5: clusters (10 and 18)----> cluster: 34 (dist=0.5) \n",
      "Step 6: clusters (24 and 28)----> cluster: 35 (dist=0.5) \n",
      "Step 7: clusters (1 and 7)----> cluster: 36 (dist=0.6666666666666666) \n",
      "Step 8: clusters (36 and 33)----> cluster: 37 (dist=0.6666666666666666) \n",
      "Step 9: clusters (3 and 26)----> cluster: 38 (dist=0.6666666666666666) \n",
      "Step 10: clusters (0 and 9)----> cluster: 39 (dist=0.7142857142857143) \n",
      "Step 11: clusters (39 and 13)----> cluster: 40 (dist=0.7142857142857143) \n",
      "Step 12: clusters (40 and 21)----> cluster: 41 (dist=0.7142857142857143) \n",
      "Step 13: clusters (37 and 20)----> cluster: 42 (dist=0.75) \n",
      "Step 14: clusters (42 and 41)----> cluster: 43 (dist=0.75) \n",
      "Step 15: clusters (38 and 5)----> cluster: 44 (dist=0.75) \n",
      "Step 16: clusters (4 and 43)----> cluster: 45 (dist=0.75) \n",
      "Step 17: clusters (45 and 35)----> cluster: 46 (dist=0.75) \n",
      "Step 18: clusters (46 and 27)----> cluster: 47 (dist=0.75) \n",
      "Step 19: clusters (44 and 47)----> cluster: 48 (dist=0.75) \n",
      "Step 20: clusters (48 and 34)----> cluster: 49 (dist=0.75) \n",
      "Step 21: clusters (31 and 11)----> cluster: 50 (dist=0.75) \n",
      "Step 22: clusters (50 and 49)----> cluster: 51 (dist=0.75) \n",
      "Step 23: clusters (51 and 23)----> cluster: 52 (dist=0.8) \n",
      "Step 24: clusters (52 and 25)----> cluster: 53 (dist=0.8) \n",
      "Step 25: clusters (53 and 17)----> cluster: 54 (dist=0.8) \n",
      "Step 26: clusters (54 and 12)----> cluster: 55 (dist=0.8333333333333334) \n",
      "Step 27: clusters (16 and 55)----> cluster: 56 (dist=0.8461538461538461) \n",
      "Step 28: clusters (56 and 22)----> cluster: 57 (dist=0.9090909090909091) \n",
      "Step 29: clusters (57 and 19)----> cluster: 58 (dist=1.0) \n"
     ]
    }
   ],
   "source": [
    "classification(text,hemming_distance)"
   ]
  },
  {
   "cell_type": "code",
   "execution_count": null,
   "metadata": {},
   "outputs": [],
   "source": []
  }
 ],
 "metadata": {
  "kernelspec": {
   "display_name": "Python 3",
   "language": "python",
   "name": "python3"
  },
  "language_info": {
   "codemirror_mode": {
    "name": "ipython",
    "version": 3
   },
   "file_extension": ".py",
   "mimetype": "text/x-python",
   "name": "python",
   "nbconvert_exporter": "python",
   "pygments_lexer": "ipython3",
   "version": "3.7.6"
  }
 },
 "nbformat": 4,
 "nbformat_minor": 4
}
